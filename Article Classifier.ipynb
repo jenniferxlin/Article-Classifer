{
 "cells": [
  {
   "cell_type": "markdown",
   "metadata": {},
   "source": [
    "# Article Classifier\n",
    "\n",
    "**By: Jennifer Lin**\n",
    "\n",
    "Classifies imported articles as either politics or sports based on word associations and co-occurrences in the documents."
   ]
  },
  {
   "cell_type": "code",
   "execution_count": 2,
   "metadata": {},
   "outputs": [],
   "source": [
    "#reads the texts in the ps2data file\n",
    "ptexts=[open('ps2data/p{}.txt'.format(i)).read() for i in range(30)]\n",
    "stexts=[open('ps2data/s{}.txt'.format(i)).read() for i in range(30)]\n",
    "testtexts=[open('ps2data/test{}.txt'.format(i)).read() for i in range(10)]"
   ]
  },
  {
   "cell_type": "code",
   "execution_count": 3,
   "metadata": {
    "collapsed": true
   },
   "outputs": [],
   "source": [
    "#separates all the text in an article into 1 word, lowercase, and put in a list\n",
    "import re\n",
    "re.findall(\"[a-z0-9']+\",ptexts[0].lower())"
   ]
  },
  {
   "cell_type": "code",
   "execution_count": 4,
   "metadata": {
    "collapsed": true
   },
   "outputs": [],
   "source": [
    "#only counts each new word rather so don't recount words that appear multiple times in one document\n",
    "import numpy as np\n",
    "from collections import Counter, defaultdict\n",
    "Counter(set(re.findall(\"[a-z0-9']+\",ptexts[0].lower())))"
   ]
  },
  {
   "cell_type": "code",
   "execution_count": 5,
   "metadata": {
    "collapsed": true
   },
   "outputs": [],
   "source": [
    "#number of counts of words in the training set\n",
    "n_p = np.sum([Counter(set(re.findall(\"[a-z0-9']+\",txt.lower()))) for txt in ptexts])\n",
    "n_s = np.sum([Counter(set(re.findall(\"[a-z0-9']+\",txt.lower()))) for txt in stexts])"
   ]
  },
  {
   "cell_type": "code",
   "execution_count": 6,
   "metadata": {
    "collapsed": true
   },
   "outputs": [],
   "source": [
    "#top 10 words with most frequent appearances in both the political + sports documents, 30 means they appeared in all 30 documents\n",
    "n_p.most_common(30), n_s.most_common(30)"
   ]
  },
  {
   "cell_type": "code",
   "execution_count": 7,
   "metadata": {
    "collapsed": true
   },
   "outputs": [],
   "source": [
    "#shows the 85th to 94th most frequently seen words in the political documents, appearing 17 times\n",
    "n_s.most_common()[85:94]"
   ]
  },
  {
   "cell_type": "code",
   "execution_count": 18,
   "metadata": {
    "scrolled": false
   },
   "outputs": [
    {
     "name": "stdout",
     "output_type": "stream",
     "text": [
      "test0.txt: ('politics', 0.9333333333333333)\n",
      "test1.txt: ('sports', 0.3333333333333333)\n",
      "test2.txt: ('sports', 0.43181818181818177)\n",
      "test3.txt: ('politics', 0.9677419354838709)\n",
      "test4.txt: ('politics', 0.9230769230769231)\n",
      "test5.txt: ('politics', 0.5)\n",
      "test6.txt: ('sports', 0.25)\n",
      "test7.txt: ('sports', 0.2)\n",
      "test8.txt: ('sports', 0.3333333333333333)\n",
      "test9.txt: ('politics', 0.6666666666666666)\n"
     ]
    }
   ],
   "source": [
    "def bayes_classifier(txt):\n",
    "    #finds the word count in txt\n",
    "    word_counts=Counter(re.findall(\"[a-z0-9']+\",txt.lower()))\n",
    "    \n",
    "    keywords=[w for w,c in word_counts.most_common() if n_p[w]< 26 and n_s[w]<26][:30]\n",
    "    top5 = '(based on \"{} ...\")'.format(', '.join(keywords[:5]))\n",
    "    for word in keywords:\n",
    "        #smooths data so words that haven't been seen before don't get disregarded\n",
    "        if word not in n_p: n_p[word]=.5\n",
    "        if word not in n_s: n_s[word]=.5\n",
    "        \n",
    "        #p(word|politics) and p(word|sports) with 30 political and sports documents each\n",
    "        pwordprob = n_p[word]/30\n",
    "        swordprob = n_s[word]/30\n",
    "\n",
    "        #p(politics) and p(sports)\n",
    "        politicprob = 30/60\n",
    "        sportsprob = 30/60\n",
    "        \n",
    "        #finds p(politics|word)\n",
    "        prob = ((pwordprob)*(politicprob))/((pwordprob)*(politicprob)+(swordprob)*(sportsprob))\n",
    "        \n",
    "        #if greater than 50%, most likely can be classified as political document\n",
    "        if prob >= 0.5: return \"politics\", prob\n",
    "        else: return \"sports\", prob\n",
    "        \n",
    "for i in range(10):\n",
    "    print ('test{}.txt:'.format(i),bayes_classifier(testtexts[i]))"
   ]
  },
  {
   "cell_type": "code",
   "execution_count": 9,
   "metadata": {},
   "outputs": [],
   "source": [
    "# list of all co-occurrences\n",
    "co=defaultdict(int)\n",
    "\n",
    "#combines documents \n",
    "allDocs = ptexts+stexts\n",
    "for txt in allDocs[0]:\n",
    "    #searches unique co-occurrences per document\n",
    "    words = set(re.findall(\"[a-z']+\", txt.lower()))\n",
    "    for w0 in words:\n",
    "        for w1 in words:\n",
    "           if w0 < w1: co[(w0,w1)] +=1\n",
    "#all pairs of words and number of co-occurrences throughout all 60 documents\n",
    "#list(co.items())"
   ]
  },
  {
   "cell_type": "code",
   "execution_count": 10,
   "metadata": {},
   "outputs": [
    {
     "name": "stdout",
     "output_type": "stream",
     "text": [
      "way 30\n",
      "make 30\n",
      "say 30\n",
      "why 30\n",
      "off 30\n",
      "where 30\n",
      "need 30\n"
     ]
    }
   ],
   "source": [
    "#check words that appear only 30 times across all documents\n",
    "total = n_p + n_s\n",
    "for key in total:\n",
    "    if (total[key] == 30): \n",
    "        print(key, total[key])"
   ]
  },
  {
   "cell_type": "code",
   "execution_count": 11,
   "metadata": {},
   "outputs": [
    {
     "name": "stdout",
     "output_type": "stream",
     "text": [
      "among 15\n",
      "until 15\n",
      "position 15\n",
      "month 15\n",
      "rather 15\n",
      "administration 15\n",
      "1 15\n",
      "less 15\n",
      "aren't 15\n",
      "defense 15\n",
      "either 15\n",
      "show 15\n",
      "5 15\n",
      "football 15\n",
      "man 15\n",
      "night 15\n",
      "advertising 15\n",
      "sharp 15\n",
      "true 15\n",
      "forward 15\n",
      "recent 15\n",
      "fully 15\n",
      "they're 15\n",
      "journalists 15\n",
      "online 15\n",
      "field 15\n",
      "action 15\n",
      "high 15\n"
     ]
    }
   ],
   "source": [
    "#check words that appear only 15 times across all documents\n",
    "for key in total:\n",
    "    if (total[key] == 15): \n",
    "        print(key, total[key])"
   ]
  },
  {
   "cell_type": "code",
   "execution_count": 12,
   "metadata": {},
   "outputs": [],
   "source": [
    "#looks for pair of words that only co-occur 15 times but occur 30 times alone\n",
    "for pair in co:\n",
    "    if (total[pair[0]] == 30 and total[pair[1]] == 30 and co[pair] == 15): \n",
    "        print(pair, co[pair])"
   ]
  },
  {
   "cell_type": "markdown",
   "metadata": {
    "collapsed": true
   },
   "source": [
    "#### This identifies pairs of words that occur in exactly half the documents and their probability of co-occurrence is independent (i.e. occurring in 30 documents as individual words but co-occurring in exactly 15 documents)."
   ]
  },
  {
   "cell_type": "code",
   "execution_count": 13,
   "metadata": {
    "scrolled": true
   },
   "outputs": [
    {
     "name": "stdout",
     "output_type": "stream",
     "text": [
      "[('believe', 'among'), ('believe', 'until'), ('believe', 'position'), ('believe', 'month'), ('believe', 'rather'), ('believe', 'administration'), ('believe', '1'), ('believe', 'less'), ('believe', \"aren't\"), ('believe', 'defense'), ('believe', 'either'), ('believe', 'show'), ('believe', '5'), ('believe', 'football'), ('believe', 'man'), ('believe', 'night'), ('believe', 'advertising'), ('believe', 'sharp'), ('believe', 'true'), ('believe', 'forward'), ('believe', 'recent'), ('believe', 'fully'), ('believe', \"they're\"), ('believe', 'journalists'), ('believe', 'online'), ('believe', 'field'), ('believe', 'action'), ('believe', 'high'), ('united', 'among'), ('united', 'until'), ('united', 'position'), ('united', 'month'), ('united', 'rather'), ('united', 'administration'), ('united', '1'), ('united', 'less'), ('united', \"aren't\"), ('united', 'defense'), ('united', 'either'), ('united', 'show'), ('united', '5'), ('united', 'football'), ('united', 'man'), ('united', 'night'), ('united', 'advertising'), ('united', 'sharp'), ('united', 'true'), ('united', 'forward'), ('united', 'recent'), ('united', 'fully'), ('united', \"they're\"), ('united', 'journalists'), ('united', 'online'), ('united', 'field'), ('united', 'action'), ('united', 'high'), ('feb', 'among'), ('feb', 'until'), ('feb', 'position'), ('feb', 'month'), ('feb', 'rather'), ('feb', 'administration'), ('feb', '1'), ('feb', 'less'), ('feb', \"aren't\"), ('feb', 'defense'), ('feb', 'either'), ('feb', 'show'), ('feb', '5'), ('feb', 'football'), ('feb', 'man'), ('feb', 'night'), ('feb', 'advertising'), ('feb', 'sharp'), ('feb', 'true'), ('feb', 'forward'), ('feb', 'recent'), ('feb', 'fully'), ('feb', \"they're\"), ('feb', 'journalists'), ('feb', 'online'), ('feb', 'field'), ('feb', 'action'), ('feb', 'high'), ('2016', 'among'), ('2016', 'until'), ('2016', 'position'), ('2016', 'month'), ('2016', 'rather'), ('2016', 'administration'), ('2016', '1'), ('2016', 'less'), ('2016', \"aren't\"), ('2016', 'defense'), ('2016', 'either'), ('2016', 'show'), ('2016', '5'), ('2016', 'football'), ('2016', 'man'), ('2016', 'night'), ('2016', 'advertising'), ('2016', 'sharp'), ('2016', 'true'), ('2016', 'forward'), ('2016', 'recent'), ('2016', 'fully'), ('2016', \"they're\"), ('2016', 'journalists'), ('2016', 'online'), ('2016', 'field'), ('2016', 'action'), ('2016', 'high'), ('history', 'among'), ('history', 'until'), ('history', 'position'), ('history', 'month'), ('history', 'rather'), ('history', 'administration'), ('history', '1'), ('history', 'less'), ('history', \"aren't\"), ('history', 'defense'), ('history', 'either'), ('history', 'show'), ('history', '5'), ('history', 'football'), ('history', 'man'), ('history', 'night'), ('history', 'advertising'), ('history', 'sharp'), ('history', 'true'), ('history', 'forward'), ('history', 'recent'), ('history', 'fully'), ('history', \"they're\"), ('history', 'journalists'), ('history', 'online'), ('history', 'field'), ('history', 'action'), ('history', 'high'), ('put', 'among'), ('put', 'until'), ('put', 'position'), ('put', 'month'), ('put', 'rather'), ('put', 'administration'), ('put', '1'), ('put', 'less'), ('put', \"aren't\"), ('put', 'defense'), ('put', 'either'), ('put', 'show'), ('put', '5'), ('put', 'football'), ('put', 'man'), ('put', 'night'), ('put', 'advertising'), ('put', 'sharp'), ('put', 'true'), ('put', 'forward'), ('put', 'recent'), ('put', 'fully'), ('put', \"they're\"), ('put', 'journalists'), ('put', 'online'), ('put', 'field'), ('put', 'action'), ('put', 'high'), ('know', 'among'), ('know', 'until'), ('know', 'position'), ('know', 'month'), ('know', 'rather'), ('know', 'administration'), ('know', '1'), ('know', 'less'), ('know', \"aren't\"), ('know', 'defense'), ('know', 'either'), ('know', 'show'), ('know', '5'), ('know', 'football'), ('know', 'man'), ('know', 'night'), ('know', 'advertising'), ('know', 'sharp'), ('know', 'true'), ('know', 'forward'), ('know', 'recent'), ('know', 'fully'), ('know', \"they're\"), ('know', 'journalists'), ('know', 'online'), ('know', 'field'), ('know', 'action'), ('know', 'high'), ('does', 'among'), ('does', 'until'), ('does', 'position'), ('does', 'month'), ('does', 'rather'), ('does', 'administration'), ('does', '1'), ('does', 'less'), ('does', \"aren't\"), ('does', 'defense'), ('does', 'either'), ('does', 'show'), ('does', '5'), ('does', 'football'), ('does', 'man'), ('does', 'night'), ('does', 'advertising'), ('does', 'sharp'), ('does', 'true'), ('does', 'forward'), ('does', 'recent'), ('does', 'fully'), ('does', \"they're\"), ('does', 'journalists'), ('does', 'online'), ('does', 'field'), ('does', 'action'), ('does', 'high'), ('well', 'among'), ('well', 'until'), ('well', 'position'), ('well', 'month'), ('well', 'rather'), ('well', 'administration'), ('well', '1'), ('well', 'less'), ('well', \"aren't\"), ('well', 'defense'), ('well', 'either'), ('well', 'show'), ('well', '5'), ('well', 'football'), ('well', 'man'), ('well', 'night'), ('well', 'advertising'), ('well', 'sharp'), ('well', 'true'), ('well', 'forward'), ('well', 'recent'), ('well', 'fully'), ('well', \"they're\"), ('well', 'journalists'), ('well', 'online'), ('well', 'field'), ('well', 'action'), ('well', 'high'), ('doing', 'among'), ('doing', 'until'), ('doing', 'position'), ('doing', 'month'), ('doing', 'rather'), ('doing', 'administration'), ('doing', '1'), ('doing', 'less'), ('doing', \"aren't\"), ('doing', 'defense'), ('doing', 'either'), ('doing', 'show'), ('doing', '5'), ('doing', 'football'), ('doing', 'man'), ('doing', 'night'), ('doing', 'advertising'), ('doing', 'sharp'), ('doing', 'true'), ('doing', 'forward'), ('doing', 'recent'), ('doing', 'fully'), ('doing', \"they're\"), ('doing', 'journalists'), ('doing', 'online'), ('doing', 'field'), ('doing', 'action'), ('doing', 'high'), ('john', 'among'), ('john', 'until'), ('john', 'position'), ('john', 'month'), ('john', 'rather'), ('john', 'administration'), ('john', '1'), ('john', 'less'), ('john', \"aren't\"), ('john', 'defense'), ('john', 'either'), ('john', 'show'), ('john', '5'), ('john', 'football'), ('john', 'man'), ('john', 'night'), ('john', 'advertising'), ('john', 'sharp'), ('john', 'true'), ('john', 'forward'), ('john', 'recent'), ('john', 'fully'), ('john', \"they're\"), ('john', 'journalists'), ('john', 'online'), ('john', 'field'), ('john', 'action'), ('john', 'high'), ('league', 'among'), ('league', 'until'), ('league', 'position'), ('league', 'month'), ('league', 'rather'), ('league', 'administration'), ('league', '1'), ('league', 'less'), ('league', \"aren't\"), ('league', 'defense'), ('league', 'either'), ('league', 'show'), ('league', '5'), ('league', 'football'), ('league', 'man'), ('league', 'night'), ('league', 'advertising'), ('league', 'sharp'), ('league', 'true'), ('league', 'forward'), ('league', 'recent'), ('league', 'fully'), ('league', \"they're\"), ('league', 'journalists'), ('league', 'online'), ('league', 'field'), ('league', 'action'), ('league', 'high'), ('players', 'among'), ('players', 'until'), ('players', 'position'), ('players', 'month'), ('players', 'rather'), ('players', 'administration'), ('players', '1'), ('players', 'less'), ('players', \"aren't\"), ('players', 'defense'), ('players', 'either'), ('players', 'show'), ('players', '5'), ('players', 'football'), ('players', 'man'), ('players', 'night'), ('players', 'advertising'), ('players', 'sharp'), ('players', 'true'), ('players', 'forward'), ('players', 'recent'), ('players', 'fully'), ('players', \"they're\"), ('players', 'journalists'), ('players', 'online'), ('players', 'field'), ('players', 'action'), ('players', 'high'), ('head', 'among'), ('head', 'until'), ('head', 'position'), ('head', 'month'), ('head', 'rather'), ('head', 'administration'), ('head', '1'), ('head', 'less'), ('head', \"aren't\"), ('head', 'defense'), ('head', 'either'), ('head', 'show'), ('head', '5'), ('head', 'football'), ('head', 'man'), ('head', 'night'), ('head', 'advertising'), ('head', 'sharp'), ('head', 'true'), ('head', 'forward'), ('head', 'recent'), ('head', 'fully'), ('head', \"they're\"), ('head', 'journalists'), ('head', 'online'), ('head', 'field'), ('head', 'action'), ('head', 'high'), ('asked', 'among'), ('asked', 'until'), ('asked', 'position'), ('asked', 'month'), ('asked', 'rather'), ('asked', 'administration'), ('asked', '1'), ('asked', 'less'), ('asked', \"aren't\"), ('asked', 'defense'), ('asked', 'either'), ('asked', 'show'), ('asked', '5'), ('asked', 'football'), ('asked', 'man'), ('asked', 'night'), ('asked', 'advertising'), ('asked', 'sharp'), ('asked', 'true'), ('asked', 'forward'), ('asked', 'recent'), ('asked', 'fully'), ('asked', \"they're\"), ('asked', 'journalists'), ('asked', 'online'), ('asked', 'field'), ('asked', 'action'), ('asked', 'high'), ('talk', 'among'), ('talk', 'until'), ('talk', 'position'), ('talk', 'month'), ('talk', 'rather'), ('talk', 'administration'), ('talk', '1'), ('talk', 'less'), ('talk', \"aren't\"), ('talk', 'defense'), ('talk', 'either'), ('talk', 'show'), ('talk', '5'), ('talk', 'football'), ('talk', 'man'), ('talk', 'night'), ('talk', 'advertising'), ('talk', 'sharp'), ('talk', 'true'), ('talk', 'forward'), ('talk', 'recent'), ('talk', 'fully'), ('talk', \"they're\"), ('talk', 'journalists'), ('talk', 'online'), ('talk', 'field'), ('talk', 'action'), ('talk', 'high')]\n"
     ]
    }
   ],
   "source": [
    "#contains words that only appear 20 times (1/3 of the 60 documents)\n",
    "co1 = []\n",
    "#contains words that only appear 15 (1/4 of the 60 documents)\n",
    "co2 = []\n",
    "for key in total:\n",
    "    if (total[key] == 20): \n",
    "      co1.append(key)\n",
    "    if (total[key] == 15):\n",
    "      co2.append(key)\n",
    "\n",
    "#contains words that either appear 20 or 15 times but don't co-occur\n",
    "disjoint = []\n",
    "for key in co1:\n",
    "    for word in co2:\n",
    "        #if don't co-occur, number of co-occurrences for that pair is 0\n",
    "        if (co[(key, word)] == 0 or co[(word,key)]==0): \n",
    "            disjoint.append((key, word))\n",
    "print(disjoint)\n",
    "    "
   ]
  },
  {
   "cell_type": "markdown",
   "metadata": {},
   "source": [
    "#### This identifies pairs of words that occur in exactly 1/3 of the documents, the other in exactly 1/4 of the documents, and which do not co-occur."
   ]
  },
  {
   "cell_type": "code",
   "execution_count": 14,
   "metadata": {},
   "outputs": [],
   "source": [
    "#co-occur 12 times (1/5 of 60) but occur 30 (1/2 of 60) or 15 (1/4 of 60) times alone\n",
    "for pair in co:\n",
    "    if (total[pair[0]] == 30 and total[pair[1]] == 15 and co[pair] == 12): \n",
    "        print(pair)\n",
    "    elif (total[pair[0]] == 15 and total[pair[1]] == 30 and co[pair] == 12):\n",
    "        print(pair)"
   ]
  },
  {
   "cell_type": "code",
   "execution_count": 15,
   "metadata": {},
   "outputs": [
    {
     "data": {
      "text/plain": [
       "True"
      ]
     },
     "execution_count": 15,
     "metadata": {},
     "output_type": "execute_result"
    }
   ],
   "source": [
    "(1/5)>(1/2)*(1/4)"
   ]
  },
  {
   "cell_type": "markdown",
   "metadata": {},
   "source": [
    "#### This identifies pairs of words with the first word occurring in 1/2 the documents, second word in 1/4 of the documents, and co-occurring in 1/5 of the documents. "
   ]
  },
  {
   "cell_type": "code",
   "execution_count": 16,
   "metadata": {},
   "outputs": [
    {
     "name": "stdout",
     "output_type": "stream",
     "text": [
      "then 40\n",
      "these 40\n",
      "its 40\n",
      "most 40\n"
     ]
    }
   ],
   "source": [
    "#looks for words that occur 40 times (2/3 of 60)\n",
    "for key in total:\n",
    "    if (total[key] == 40): \n",
    "        print(key, total[key])"
   ]
  },
  {
   "cell_type": "code",
   "execution_count": 17,
   "metadata": {},
   "outputs": [],
   "source": [
    "for pair in co:\n",
    "    #looks for words that occur 40 times (2/3 of 60) and co-occur 26.6667 +/- 1 (60 * 4/9)\n",
    "    if (total[pair[0]] == 40 and total[pair[1]] == 40):\n",
    "        if (co[pair] == 26 or co[pair] == 27): \n",
    "            print(pair)"
   ]
  }
 ],
 "metadata": {
  "kernelspec": {
   "display_name": "Python 3",
   "language": "python",
   "name": "python3"
  },
  "language_info": {
   "codemirror_mode": {
    "name": "ipython",
    "version": 3
   },
   "file_extension": ".py",
   "mimetype": "text/x-python",
   "name": "python",
   "nbconvert_exporter": "python",
   "pygments_lexer": "ipython3",
   "version": "3.6.3"
  }
 },
 "nbformat": 4,
 "nbformat_minor": 2
}
